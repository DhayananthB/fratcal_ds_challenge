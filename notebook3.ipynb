{
 "cells": [
  {
   "cell_type": "code",
   "execution_count": 1,
   "metadata": {},
   "outputs": [],
   "source": [
    "import numpy as np\n",
    "import pandas as pd"
   ]
  },
  {
   "cell_type": "code",
   "execution_count": 2,
   "metadata": {},
   "outputs": [],
   "source": [
    "df = pd.read_csv('Dataset/train.csv')"
   ]
  },
  {
   "cell_type": "code",
   "execution_count": 3,
   "metadata": {},
   "outputs": [],
   "source": [
    "df['ph'].sample(100).to_csv('ph.csv', index=False)"
   ]
  },
  {
   "cell_type": "code",
   "execution_count": 4,
   "metadata": {},
   "outputs": [
    {
     "data": {
      "text/html": [
       "<div>\n",
       "<style scoped>\n",
       "    .dataframe tbody tr th:only-of-type {\n",
       "        vertical-align: middle;\n",
       "    }\n",
       "\n",
       "    .dataframe tbody tr th {\n",
       "        vertical-align: top;\n",
       "    }\n",
       "\n",
       "    .dataframe thead th {\n",
       "        text-align: right;\n",
       "    }\n",
       "</style>\n",
       "<table border=\"1\" class=\"dataframe\">\n",
       "  <thead>\n",
       "    <tr style=\"text-align: right;\">\n",
       "      <th></th>\n",
       "      <th>Index</th>\n",
       "      <th>ph</th>\n",
       "      <th>Hardness</th>\n",
       "      <th>Solids</th>\n",
       "      <th>Chloramines</th>\n",
       "      <th>Sulfate</th>\n",
       "      <th>Conductivity</th>\n",
       "      <th>Organic_carbon</th>\n",
       "      <th>Trihalomethanes</th>\n",
       "      <th>Turbidity</th>\n",
       "      <th>Potability</th>\n",
       "    </tr>\n",
       "  </thead>\n",
       "  <tbody>\n",
       "    <tr>\n",
       "      <th>3883</th>\n",
       "      <td>3883</td>\n",
       "      <td>&lt;br&gt;😁The observed pH value of  0.2322286141243...</td>\n",
       "      <td>&lt;br&gt;😍With a hardness level of  1.6215243944810...</td>\n",
       "      <td>&lt;h1&gt;😍The water sample exhibits a total solids ...</td>\n",
       "      <td>1.467314</td>\n",
       "      <td>1.984043</td>\n",
       "      <td>2.703018</td>\n",
       "      <td>1.294589</td>\n",
       "      <td>1.551714</td>\n",
       "      <td>&lt;br&gt;😇The water sample exhibits a turbidity rea...</td>\n",
       "      <td>1.001121</td>\n",
       "    </tr>\n",
       "  </tbody>\n",
       "</table>\n",
       "</div>"
      ],
      "text/plain": [
       "      Index                                                 ph  \\\n",
       "3883   3883  <br>😁The observed pH value of  0.2322286141243...   \n",
       "\n",
       "                                               Hardness  \\\n",
       "3883  <br>😍With a hardness level of  1.6215243944810...   \n",
       "\n",
       "                                                 Solids  Chloramines  \\\n",
       "3883  <h1>😍The water sample exhibits a total solids ...     1.467314   \n",
       "\n",
       "       Sulfate  Conductivity  Organic_carbon  Trihalomethanes  \\\n",
       "3883  1.984043      2.703018        1.294589         1.551714   \n",
       "\n",
       "                                              Turbidity  Potability  \n",
       "3883  <br>😇The water sample exhibits a turbidity rea...    1.001121  "
      ]
     },
     "execution_count": 4,
     "metadata": {},
     "output_type": "execute_result"
    }
   ],
   "source": [
    "df.sample()"
   ]
  },
  {
   "cell_type": "code",
   "execution_count": 5,
   "metadata": {},
   "outputs": [
    {
     "name": "stdout",
     "output_type": "stream",
     "text": [
      "<class 'pandas.core.frame.DataFrame'>\n",
      "RangeIndex: 10000 entries, 0 to 9999\n",
      "Data columns (total 11 columns):\n",
      " #   Column           Non-Null Count  Dtype  \n",
      "---  ------           --------------  -----  \n",
      " 0   Index            10000 non-null  int64  \n",
      " 1   ph               10000 non-null  object \n",
      " 2   Hardness         10000 non-null  object \n",
      " 3   Solids           10000 non-null  object \n",
      " 4   Chloramines      10000 non-null  float64\n",
      " 5   Sulfate          10000 non-null  float64\n",
      " 6   Conductivity     10000 non-null  float64\n",
      " 7   Organic_carbon   10000 non-null  float64\n",
      " 8   Trihalomethanes  10000 non-null  float64\n",
      " 9   Turbidity        10000 non-null  object \n",
      " 10  Potability       10000 non-null  float64\n",
      "dtypes: float64(6), int64(1), object(4)\n",
      "memory usage: 859.5+ KB\n"
     ]
    }
   ],
   "source": [
    "df.info()"
   ]
  },
  {
   "cell_type": "code",
   "execution_count": 6,
   "metadata": {},
   "outputs": [],
   "source": [
    "# Extracting decimal values \n",
    "def extract_decimal(df):\n",
    "    df['ph'] = df['ph'].str.extract(r'(\\d+\\.\\d+)').astype(float)\n",
    "    df['Hardness'] = df['Hardness'].str.extract(r'(\\d+\\.\\d+)').astype(float)\n",
    "    df['Solids'] = df['Solids'].str.extract(r'(\\d+\\.\\d+)').astype(float)\n",
    "    df['Turbidity'] = df['Turbidity'].str.extract(r'(\\d+\\.\\d+)').astype(float)"
   ]
  },
  {
   "cell_type": "code",
   "execution_count": 7,
   "metadata": {},
   "outputs": [],
   "source": [
    "extract_decimal(df)"
   ]
  },
  {
   "cell_type": "code",
   "execution_count": 8,
   "metadata": {},
   "outputs": [
    {
     "data": {
      "text/html": [
       "<div>\n",
       "<style scoped>\n",
       "    .dataframe tbody tr th:only-of-type {\n",
       "        vertical-align: middle;\n",
       "    }\n",
       "\n",
       "    .dataframe tbody tr th {\n",
       "        vertical-align: top;\n",
       "    }\n",
       "\n",
       "    .dataframe thead th {\n",
       "        text-align: right;\n",
       "    }\n",
       "</style>\n",
       "<table border=\"1\" class=\"dataframe\">\n",
       "  <thead>\n",
       "    <tr style=\"text-align: right;\">\n",
       "      <th></th>\n",
       "      <th>Index</th>\n",
       "      <th>ph</th>\n",
       "      <th>Hardness</th>\n",
       "      <th>Solids</th>\n",
       "      <th>Chloramines</th>\n",
       "      <th>Sulfate</th>\n",
       "      <th>Conductivity</th>\n",
       "      <th>Organic_carbon</th>\n",
       "      <th>Trihalomethanes</th>\n",
       "      <th>Turbidity</th>\n",
       "      <th>Potability</th>\n",
       "    </tr>\n",
       "  </thead>\n",
       "  <tbody>\n",
       "    <tr>\n",
       "      <th>7259</th>\n",
       "      <td>7259</td>\n",
       "      <td>0.202252</td>\n",
       "      <td>1.197423</td>\n",
       "      <td>2.480112</td>\n",
       "      <td>1.390668</td>\n",
       "      <td>1.093101</td>\n",
       "      <td>1.50951</td>\n",
       "      <td>1.192287</td>\n",
       "      <td>1.163597</td>\n",
       "      <td>1.119651</td>\n",
       "      <td>0.938766</td>\n",
       "    </tr>\n",
       "  </tbody>\n",
       "</table>\n",
       "</div>"
      ],
      "text/plain": [
       "      Index        ph  Hardness    Solids  Chloramines   Sulfate  \\\n",
       "7259   7259  0.202252  1.197423  2.480112     1.390668  1.093101   \n",
       "\n",
       "      Conductivity  Organic_carbon  Trihalomethanes  Turbidity  Potability  \n",
       "7259       1.50951        1.192287         1.163597   1.119651    0.938766  "
      ]
     },
     "execution_count": 8,
     "metadata": {},
     "output_type": "execute_result"
    }
   ],
   "source": [
    "df.sample()"
   ]
  },
  {
   "cell_type": "code",
   "execution_count": 9,
   "metadata": {},
   "outputs": [
    {
     "data": {
      "text/plain": [
       "Index              0\n",
       "ph                 0\n",
       "Hardness           0\n",
       "Solids             0\n",
       "Chloramines        0\n",
       "Sulfate            0\n",
       "Conductivity       0\n",
       "Organic_carbon     0\n",
       "Trihalomethanes    0\n",
       "Turbidity          0\n",
       "Potability         0\n",
       "dtype: int64"
      ]
     },
     "execution_count": 9,
     "metadata": {},
     "output_type": "execute_result"
    }
   ],
   "source": [
    "df.isnull().sum()"
   ]
  },
  {
   "cell_type": "code",
   "execution_count": 10,
   "metadata": {},
   "outputs": [],
   "source": [
    "import seaborn as sns"
   ]
  },
  {
   "cell_type": "code",
   "execution_count": 11,
   "metadata": {},
   "outputs": [],
   "source": [
    "# sns.pairplot(df)"
   ]
  },
  {
   "cell_type": "code",
   "execution_count": 12,
   "metadata": {},
   "outputs": [
    {
     "data": {
      "text/html": [
       "<div>\n",
       "<style scoped>\n",
       "    .dataframe tbody tr th:only-of-type {\n",
       "        vertical-align: middle;\n",
       "    }\n",
       "\n",
       "    .dataframe tbody tr th {\n",
       "        vertical-align: top;\n",
       "    }\n",
       "\n",
       "    .dataframe thead th {\n",
       "        text-align: right;\n",
       "    }\n",
       "</style>\n",
       "<table border=\"1\" class=\"dataframe\">\n",
       "  <thead>\n",
       "    <tr style=\"text-align: right;\">\n",
       "      <th></th>\n",
       "      <th>Index</th>\n",
       "      <th>ph</th>\n",
       "      <th>Hardness</th>\n",
       "      <th>Solids</th>\n",
       "      <th>Chloramines</th>\n",
       "      <th>Sulfate</th>\n",
       "      <th>Conductivity</th>\n",
       "      <th>Organic_carbon</th>\n",
       "      <th>Trihalomethanes</th>\n",
       "      <th>Turbidity</th>\n",
       "      <th>Potability</th>\n",
       "    </tr>\n",
       "  </thead>\n",
       "  <tbody>\n",
       "    <tr>\n",
       "      <th>Index</th>\n",
       "      <td>1.000000</td>\n",
       "      <td>0.002882</td>\n",
       "      <td>0.008009</td>\n",
       "      <td>-0.000412</td>\n",
       "      <td>-0.006839</td>\n",
       "      <td>-0.005622</td>\n",
       "      <td>-0.004613</td>\n",
       "      <td>-0.000576</td>\n",
       "      <td>-0.005718</td>\n",
       "      <td>-0.012348</td>\n",
       "      <td>0.018535</td>\n",
       "    </tr>\n",
       "    <tr>\n",
       "      <th>ph</th>\n",
       "      <td>0.002882</td>\n",
       "      <td>1.000000</td>\n",
       "      <td>0.089864</td>\n",
       "      <td>0.102743</td>\n",
       "      <td>0.193301</td>\n",
       "      <td>0.186583</td>\n",
       "      <td>-0.092561</td>\n",
       "      <td>-0.202923</td>\n",
       "      <td>-0.280220</td>\n",
       "      <td>-0.269060</td>\n",
       "      <td>-0.377959</td>\n",
       "    </tr>\n",
       "    <tr>\n",
       "      <th>Hardness</th>\n",
       "      <td>0.008009</td>\n",
       "      <td>0.089864</td>\n",
       "      <td>1.000000</td>\n",
       "      <td>0.103424</td>\n",
       "      <td>-0.209368</td>\n",
       "      <td>0.201186</td>\n",
       "      <td>0.117671</td>\n",
       "      <td>-0.296464</td>\n",
       "      <td>-0.089368</td>\n",
       "      <td>0.111628</td>\n",
       "      <td>0.080042</td>\n",
       "    </tr>\n",
       "    <tr>\n",
       "      <th>Solids</th>\n",
       "      <td>-0.000412</td>\n",
       "      <td>0.102743</td>\n",
       "      <td>0.103424</td>\n",
       "      <td>1.000000</td>\n",
       "      <td>-0.109512</td>\n",
       "      <td>-0.203828</td>\n",
       "      <td>0.278261</td>\n",
       "      <td>-0.199734</td>\n",
       "      <td>0.096817</td>\n",
       "      <td>0.017621</td>\n",
       "      <td>-0.015193</td>\n",
       "    </tr>\n",
       "    <tr>\n",
       "      <th>Chloramines</th>\n",
       "      <td>-0.006839</td>\n",
       "      <td>0.193301</td>\n",
       "      <td>-0.209368</td>\n",
       "      <td>-0.109512</td>\n",
       "      <td>1.000000</td>\n",
       "      <td>0.099327</td>\n",
       "      <td>-0.100761</td>\n",
       "      <td>0.084435</td>\n",
       "      <td>-0.111426</td>\n",
       "      <td>0.180824</td>\n",
       "      <td>0.091082</td>\n",
       "    </tr>\n",
       "    <tr>\n",
       "      <th>Sulfate</th>\n",
       "      <td>-0.005622</td>\n",
       "      <td>0.186583</td>\n",
       "      <td>0.201186</td>\n",
       "      <td>-0.203828</td>\n",
       "      <td>0.099327</td>\n",
       "      <td>1.000000</td>\n",
       "      <td>0.103847</td>\n",
       "      <td>-0.102436</td>\n",
       "      <td>0.206470</td>\n",
       "      <td>-0.200844</td>\n",
       "      <td>-0.087696</td>\n",
       "    </tr>\n",
       "    <tr>\n",
       "      <th>Conductivity</th>\n",
       "      <td>-0.004613</td>\n",
       "      <td>-0.092561</td>\n",
       "      <td>0.117671</td>\n",
       "      <td>0.278261</td>\n",
       "      <td>-0.100761</td>\n",
       "      <td>0.103847</td>\n",
       "      <td>1.000000</td>\n",
       "      <td>0.001086</td>\n",
       "      <td>0.096684</td>\n",
       "      <td>-0.283398</td>\n",
       "      <td>-0.190306</td>\n",
       "    </tr>\n",
       "    <tr>\n",
       "      <th>Organic_carbon</th>\n",
       "      <td>-0.000576</td>\n",
       "      <td>-0.202923</td>\n",
       "      <td>-0.296464</td>\n",
       "      <td>-0.199734</td>\n",
       "      <td>0.084435</td>\n",
       "      <td>-0.102436</td>\n",
       "      <td>0.001086</td>\n",
       "      <td>1.000000</td>\n",
       "      <td>0.193907</td>\n",
       "      <td>0.086630</td>\n",
       "      <td>0.109229</td>\n",
       "    </tr>\n",
       "    <tr>\n",
       "      <th>Trihalomethanes</th>\n",
       "      <td>-0.005718</td>\n",
       "      <td>-0.280220</td>\n",
       "      <td>-0.089368</td>\n",
       "      <td>0.096817</td>\n",
       "      <td>-0.111426</td>\n",
       "      <td>0.206470</td>\n",
       "      <td>0.096684</td>\n",
       "      <td>0.193907</td>\n",
       "      <td>1.000000</td>\n",
       "      <td>-0.100043</td>\n",
       "      <td>0.108381</td>\n",
       "    </tr>\n",
       "    <tr>\n",
       "      <th>Turbidity</th>\n",
       "      <td>-0.012348</td>\n",
       "      <td>-0.269060</td>\n",
       "      <td>0.111628</td>\n",
       "      <td>0.017621</td>\n",
       "      <td>0.180824</td>\n",
       "      <td>-0.200844</td>\n",
       "      <td>-0.283398</td>\n",
       "      <td>0.086630</td>\n",
       "      <td>-0.100043</td>\n",
       "      <td>1.000000</td>\n",
       "      <td>-0.104937</td>\n",
       "    </tr>\n",
       "    <tr>\n",
       "      <th>Potability</th>\n",
       "      <td>0.018535</td>\n",
       "      <td>-0.377959</td>\n",
       "      <td>0.080042</td>\n",
       "      <td>-0.015193</td>\n",
       "      <td>0.091082</td>\n",
       "      <td>-0.087696</td>\n",
       "      <td>-0.190306</td>\n",
       "      <td>0.109229</td>\n",
       "      <td>0.108381</td>\n",
       "      <td>-0.104937</td>\n",
       "      <td>1.000000</td>\n",
       "    </tr>\n",
       "  </tbody>\n",
       "</table>\n",
       "</div>"
      ],
      "text/plain": [
       "                    Index        ph  Hardness    Solids  Chloramines  \\\n",
       "Index            1.000000  0.002882  0.008009 -0.000412    -0.006839   \n",
       "ph               0.002882  1.000000  0.089864  0.102743     0.193301   \n",
       "Hardness         0.008009  0.089864  1.000000  0.103424    -0.209368   \n",
       "Solids          -0.000412  0.102743  0.103424  1.000000    -0.109512   \n",
       "Chloramines     -0.006839  0.193301 -0.209368 -0.109512     1.000000   \n",
       "Sulfate         -0.005622  0.186583  0.201186 -0.203828     0.099327   \n",
       "Conductivity    -0.004613 -0.092561  0.117671  0.278261    -0.100761   \n",
       "Organic_carbon  -0.000576 -0.202923 -0.296464 -0.199734     0.084435   \n",
       "Trihalomethanes -0.005718 -0.280220 -0.089368  0.096817    -0.111426   \n",
       "Turbidity       -0.012348 -0.269060  0.111628  0.017621     0.180824   \n",
       "Potability       0.018535 -0.377959  0.080042 -0.015193     0.091082   \n",
       "\n",
       "                  Sulfate  Conductivity  Organic_carbon  Trihalomethanes  \\\n",
       "Index           -0.005622     -0.004613       -0.000576        -0.005718   \n",
       "ph               0.186583     -0.092561       -0.202923        -0.280220   \n",
       "Hardness         0.201186      0.117671       -0.296464        -0.089368   \n",
       "Solids          -0.203828      0.278261       -0.199734         0.096817   \n",
       "Chloramines      0.099327     -0.100761        0.084435        -0.111426   \n",
       "Sulfate          1.000000      0.103847       -0.102436         0.206470   \n",
       "Conductivity     0.103847      1.000000        0.001086         0.096684   \n",
       "Organic_carbon  -0.102436      0.001086        1.000000         0.193907   \n",
       "Trihalomethanes  0.206470      0.096684        0.193907         1.000000   \n",
       "Turbidity       -0.200844     -0.283398        0.086630        -0.100043   \n",
       "Potability      -0.087696     -0.190306        0.109229         0.108381   \n",
       "\n",
       "                 Turbidity  Potability  \n",
       "Index            -0.012348    0.018535  \n",
       "ph               -0.269060   -0.377959  \n",
       "Hardness          0.111628    0.080042  \n",
       "Solids            0.017621   -0.015193  \n",
       "Chloramines       0.180824    0.091082  \n",
       "Sulfate          -0.200844   -0.087696  \n",
       "Conductivity     -0.283398   -0.190306  \n",
       "Organic_carbon    0.086630    0.109229  \n",
       "Trihalomethanes  -0.100043    0.108381  \n",
       "Turbidity         1.000000   -0.104937  \n",
       "Potability       -0.104937    1.000000  "
      ]
     },
     "execution_count": 12,
     "metadata": {},
     "output_type": "execute_result"
    }
   ],
   "source": [
    "df.corr()"
   ]
  },
  {
   "cell_type": "code",
   "execution_count": 13,
   "metadata": {},
   "outputs": [
    {
     "data": {
      "text/plain": [
       "2.2190786656271904"
      ]
     },
     "execution_count": 13,
     "metadata": {},
     "output_type": "execute_result"
    }
   ],
   "source": [
    "df['Potability'].max()"
   ]
  },
  {
   "cell_type": "code",
   "execution_count": 14,
   "metadata": {},
   "outputs": [
    {
     "data": {
      "text/plain": [
       "0.3672020145343471"
      ]
     },
     "execution_count": 14,
     "metadata": {},
     "output_type": "execute_result"
    }
   ],
   "source": [
    "df['Potability'].min()"
   ]
  },
  {
   "cell_type": "code",
   "execution_count": 15,
   "metadata": {},
   "outputs": [
    {
     "data": {
      "text/plain": [
       "<seaborn.axisgrid.FacetGrid at 0x248067a8e30>"
      ]
     },
     "execution_count": 15,
     "metadata": {},
     "output_type": "execute_result"
    },
    {
     "data": {
      "image/png": "[encoded data removed]",
      "text/plain": [
       "<Figure size 500x500 with 1 Axes>"
      ]
     },
     "metadata": {},
     "output_type": "display_data"
    }
   ],
   "source": [
    "sns.displot(df[\"Potability\"])"
   ]
  },
  {
   "cell_type": "code",
   "execution_count": 16,
   "metadata": {},
   "outputs": [],
   "source": [
    "X = df.drop(columns=['Index', 'Potability'])\n",
    "y = df['Potability']"
   ]
  },
  {
   "cell_type": "code",
   "execution_count": 17,
   "metadata": {},
   "outputs": [
    {
     "data": {
      "text/plain": [
       "Index(['Index', 'ph', 'Hardness', 'Solids', 'Chloramines', 'Sulfate',\n",
       "       'Conductivity', 'Organic_carbon', 'Trihalomethanes', 'Turbidity',\n",
       "       'Potability'],\n",
       "      dtype='object')"
      ]
     },
     "execution_count": 17,
     "metadata": {},
     "output_type": "execute_result"
    }
   ],
   "source": [
    "df.columns"
   ]
  },
  {
   "cell_type": "code",
   "execution_count": 18,
   "metadata": {},
   "outputs": [
    {
     "data": {
      "text/plain": [
       "count    10000.000000\n",
       "mean         0.417378\n",
       "std          0.301558\n",
       "min          0.000000\n",
       "25%          0.162410\n",
       "50%          0.376920\n",
       "75%          0.652015\n",
       "max          7.413026\n",
       "Name: ph, dtype: float64"
      ]
     },
     "execution_count": 18,
     "metadata": {},
     "output_type": "execute_result"
    }
   ],
   "source": [
    "df['ph'].describe()"
   ]
  },
  {
   "cell_type": "code",
   "execution_count": 19,
   "metadata": {},
   "outputs": [],
   "source": [
    "df['ph'].sample(100).to_csv('ph.csv', index=False)"
   ]
  },
  {
   "cell_type": "code",
   "execution_count": 20,
   "metadata": {},
   "outputs": [
    {
     "data": {
      "text/plain": [
       "count    10000.000000\n",
       "mean         1.792871\n",
       "std          0.515938\n",
       "min          1.000769\n",
       "25%          1.336876\n",
       "50%          1.722771\n",
       "75%          2.202312\n",
       "max          2.979110\n",
       "Name: Hardness, dtype: float64"
      ]
     },
     "execution_count": 20,
     "metadata": {},
     "output_type": "execute_result"
    }
   ],
   "source": [
    "df['Hardness'].describe()"
   ]
  },
  {
   "cell_type": "code",
   "execution_count": 21,
   "metadata": {},
   "outputs": [],
   "source": [
    "from sklearn.model_selection import train_test_split\n",
    "X_train,X_test,y_train,y_test = train_test_split(X,y,test_size = 0.2,random_state=42)"
   ]
  },
  {
   "cell_type": "code",
   "execution_count": 22,
   "metadata": {},
   "outputs": [],
   "source": [
    "from sklearn.linear_model import LinearRegression"
   ]
  },
  {
   "cell_type": "code",
   "execution_count": 23,
   "metadata": {},
   "outputs": [],
   "source": [
    "lr = LinearRegression()"
   ]
  },
  {
   "cell_type": "code",
   "execution_count": 24,
   "metadata": {},
   "outputs": [
    {
     "name": "stdout",
     "output_type": "stream",
     "text": [
      "Custom cross-validation scores: [83.81489352473676, 83.68200815320921, 84.35944891177934, 83.88809004510905, 83.23411086398559]\n",
      "Mean custom score: 83.79571029976398\n",
      "Standard Deviation of custom scores: 0.36194622267545384\n"
     ]
    }
   ],
   "source": [
    "from sklearn.model_selection import cross_val_score\n",
    "def custom_score(y_true, y_pred):\n",
    "    median_error = metrics.median_absolute_error(y_true, y_pred)\n",
    "    return max(0, 100 * (1 - median_error))\n",
    "\n",
    "cv_scores = cross_val_score(lr, X, y, cv=5, scoring='neg_mean_absolute_error')\n",
    "\n",
    "cv_scores = -cv_scores\n",
    "custom_cv_scores = [max(0, 100 * (1 - score)) for score in cv_scores]\n",
    "\n",
    "print(\"Custom cross-validation scores:\", custom_cv_scores)\n",
    "print(\"Mean custom score:\", np.mean(custom_cv_scores))\n",
    "print(\"Standard Deviation of custom scores:\", np.std(custom_cv_scores))"
   ]
  },
  {
   "cell_type": "code",
   "execution_count": 25,
   "metadata": {},
   "outputs": [
    {
     "name": "stdout",
     "output_type": "stream",
     "text": [
      "Best Parameters: {'max_depth': 10, 'max_features': None, 'min_samples_leaf': 4, 'min_samples_split': 10}\n",
      "Best Custom Score: 83.61120496124468\n"
     ]
    }
   ],
   "source": [
    "from sklearn.tree import DecisionTreeRegressor\n",
    "from sklearn.model_selection import GridSearchCV\n",
    "from sklearn.metrics import make_scorer, median_absolute_error\n",
    "\n",
    "def custom_score(y_true, y_pred):\n",
    "    return max(0, 100 * (1 - median_absolute_error(y_true, y_pred)))\n",
    "\n",
    "custom_scorer = make_scorer(custom_score, greater_is_better=True)\n",
    "\n",
    "model = DecisionTreeRegressor(random_state=42)\n",
    "\n",
    "param_grid = {\n",
    "    'max_depth': [10, 20, 30],\n",
    "    'min_samples_split': [2, 5, 10],\n",
    "    'min_samples_leaf': [1, 2, 4],\n",
    "    'max_features': [None, 'sqrt', 'log2']\n",
    "}\n",
    "\n",
    "grid_search = GridSearchCV(model, param_grid=param_grid, cv=5, scoring=custom_scorer)\n",
    "grid_search.fit(X, y)\n",
    "\n",
    "print(\"Best Parameters:\", grid_search.best_params_)\n",
    "print(\"Best Custom Score:\", grid_search.best_score_)"
   ]
  },
  {
   "cell_type": "code",
   "execution_count": 30,
   "metadata": {},
   "outputs": [],
   "source": [
    "test_df = pd.read_csv('Dataset/test.csv')"
   ]
  },
  {
   "cell_type": "code",
   "execution_count": 31,
   "metadata": {},
   "outputs": [],
   "source": [
    "X_test = test_df.drop(columns=['Index'])"
   ]
  },
  {
   "cell_type": "code",
   "execution_count": 32,
   "metadata": {},
   "outputs": [],
   "source": [
    "extract_decimal(X_test)"
   ]
  },
  {
   "cell_type": "code",
   "execution_count": 33,
   "metadata": {},
   "outputs": [],
   "source": [
    "from sklearn.tree import DecisionTreeRegressor\n",
    "from sklearn.model_selection import train_test_split\n",
    "\n",
    "dt_model = DecisionTreeRegressor(\n",
    "    max_depth=10,\n",
    "    max_features='log2',\n",
    "    min_samples_leaf=4,\n",
    "    min_samples_split=10,\n",
    "    random_state=42\n",
    ")\n",
    "\n",
    "dt_model.fit(X, y)\n",
    "y_pred = dt_model.predict(X_test)"
   ]
  },
  {
   "cell_type": "code",
   "execution_count": 34,
   "metadata": {},
   "outputs": [],
   "source": [
    "sub = pd.DataFrame(y_pred,columns=['Potability'])"
   ]
  },
  {
   "cell_type": "code",
   "execution_count": 35,
   "metadata": {},
   "outputs": [],
   "source": [
    "results_df = pd.DataFrame({\"Index\" : test_df[\"Index\"], \"Potability\": y_pred})"
   ]
  },
  {
   "cell_type": "code",
   "execution_count": 36,
   "metadata": {},
   "outputs": [],
   "source": [
    "results_df.to_csv(\"submission2.csv\",index=False)"
   ]
  },
  {
   "cell_type": "code",
   "execution_count": 27,
   "metadata": {},
   "outputs": [],
   "source": [
    "# test_df = pd.read_csv('Dataset/test.csv')"
   ]
  },
  {
   "cell_type": "code",
   "execution_count": 28,
   "metadata": {},
   "outputs": [],
   "source": [
    "# extract_decimal(test_df)"
   ]
  },
  {
   "cell_type": "code",
   "execution_count": 29,
   "metadata": {},
   "outputs": [],
   "source": [
    "# X_test = test_df.drop(columns=['Index'])"
   ]
  }
 ],
 "metadata": {
  "kernelspec": {
   "display_name": "base",
   "language": "python",
   "name": "python3"
  },
  "language_info": {
   "codemirror_mode": {
    "name": "ipython",
    "version": 3
   },
   "file_extension": ".py",
   "mimetype": "text/x-python",
   "name": "python",
   "nbconvert_exporter": "python",
   "pygments_lexer": "ipython3",
   "version": "3.12.5"
  }
 },
 "nbformat": 4,
 "nbformat_minor": 2
}
